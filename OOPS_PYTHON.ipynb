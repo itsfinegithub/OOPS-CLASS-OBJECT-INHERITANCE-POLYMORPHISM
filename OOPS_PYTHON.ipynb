{
 "cells": [
  {
   "cell_type": "markdown",
   "id": "5539d430",
   "metadata": {},
   "source": [
    "# CLASS and OBJECT,  INHERITANCE,  POLYMORPHISM"
   ]
  },
  {
   "cell_type": "code",
   "execution_count": 17,
   "id": "f30919ca",
   "metadata": {},
   "outputs": [
    {
     "name": "stdout",
     "output_type": "stream",
     "text": [
      "30 capgemini\n",
      "they are not same\n"
     ]
    }
   ],
   "source": [
    "class employee:\n",
    "    company = 'capgemini'\n",
    "    \n",
    "    def __init__(self,name,age):\n",
    "        self.name = name\n",
    "        self.age = age\n",
    "    \n",
    "    def update(self):\n",
    "        self.age = 30\n",
    "        self.name = 'rajkumar'\n",
    "        \n",
    "    def compare(self,other):\n",
    "        if self.age == other.age:\n",
    "            return True\n",
    "        else:\n",
    "            return False\n",
    "        \n",
    "        \n",
    "        \n",
    "        \n",
    "emp1 = employee('priya',22)\n",
    "emp1.update()\n",
    "emp2 = employee('puneeth',26)\n",
    "print(emp1.age,emp1.company)\n",
    "if emp1.compare(emp2):\n",
    "    print('they are same')\n",
    "else:\n",
    "    print('they are not same')\n",
    "        "
   ]
  },
  {
   "cell_type": "code",
   "execution_count": 26,
   "id": "befb01b3",
   "metadata": {},
   "outputs": [
    {
     "name": "stdout",
     "output_type": "stream",
     "text": [
      "4475.0\n",
      "6450.0\n"
     ]
    }
   ],
   "source": [
    "class student:\n",
    "    def __init__(self,m1,m2,m3,m4):\n",
    "        self.m1 = m1\n",
    "        self.m2 = m2\n",
    "        self.m3 = m3\n",
    "        self.m4 = m4\n",
    "        \n",
    "    def avg(self):\n",
    "        average = (self.m1+self.m2+self.m3+self.m4)/4\n",
    "        average = (average*100)\n",
    "        return average\n",
    "\n",
    "        \n",
    "stud1 = student(50,40,30,59)\n",
    "stud2 = student(60,70,38,90)\n",
    "print(stud1.avg())\n",
    "print(stud2.avg())"
   ]
  },
  {
   "cell_type": "markdown",
   "id": "6f2b71ca",
   "metadata": {},
   "source": [
    "# LEAP YEAR using CLASS and OBJECT"
   ]
  },
  {
   "cell_type": "code",
   "execution_count": 35,
   "id": "6460510f",
   "metadata": {},
   "outputs": [
    {
     "name": "stdout",
     "output_type": "stream",
     "text": [
      "leap year\n"
     ]
    }
   ],
   "source": [
    "class leapyear:\n",
    "    def __init__(self,year):\n",
    "        self.year = year\n",
    "        \n",
    "    def leap_year(self):\n",
    "        if (self.year%400)==0:\n",
    "            return 'leap year'\n",
    "        elif (self.year%4)==0:\n",
    "            return 'leap year'\n",
    "        elif (self.year%100)!=0:\n",
    "            return 'leap year'\n",
    "        else:\n",
    "            return 'Not a leap year'\n",
    "        \n",
    "year1 = leapyear(1998)\n",
    "print(year1.leap_year())"
   ]
  },
  {
   "cell_type": "markdown",
   "id": "68be793f",
   "metadata": {},
   "source": [
    "# class method"
   ]
  },
  {
   "cell_type": "code",
   "execution_count": 40,
   "id": "de251f8e",
   "metadata": {},
   "outputs": [
    {
     "name": "stdout",
     "output_type": "stream",
     "text": [
      "44.75\n",
      "64.5\n",
      "gurukula\n"
     ]
    }
   ],
   "source": [
    "class student:\n",
    "    school = 'gurukula'\n",
    "    def __init__(self,m1,m2,m3,m4):\n",
    "        self.m1 = m1\n",
    "        self.m2 = m2\n",
    "        self.m3 = m3\n",
    "        self.m4 = m4\n",
    "        \n",
    "    def avg(self):\n",
    "        average = (self.m1+self.m2+self.m3+self.m4)/4\n",
    "        return average\n",
    "    \n",
    "    @classmethod\n",
    "    def info(cls):# we dont want student marks we want school name.we can use cls keyword\n",
    "        return cls.school\n",
    "        \n",
    "\n",
    "        \n",
    "stud1 = student(50,40,30,59)\n",
    "stud2 = student(60,70,38,90)\n",
    "print(stud1.avg())\n",
    "print(stud2.avg())\n",
    "print(student.info())"
   ]
  },
  {
   "cell_type": "markdown",
   "id": "a4420cf9",
   "metadata": {},
   "source": [
    "# static method"
   ]
  },
  {
   "cell_type": "code",
   "execution_count": 45,
   "id": "b0ec9b9b",
   "metadata": {},
   "outputs": [
    {
     "name": "stdout",
     "output_type": "stream",
     "text": [
      "44.75\n",
      "64.5\n",
      "gurukula\n"
     ]
    },
    {
     "data": {
      "text/plain": [
       "'gurukula is my school'"
      ]
     },
     "execution_count": 45,
     "metadata": {},
     "output_type": "execute_result"
    }
   ],
   "source": [
    "class student:\n",
    "    school = 'gurukula'\n",
    "    def __init__(self,m1,m2,m3,m4):\n",
    "        self.m1 = m1\n",
    "        self.m2 = m2\n",
    "        self.m3 = m3\n",
    "        self.m4 = m4\n",
    "        \n",
    "    def avg(self):\n",
    "        average = (self.m1+self.m2+self.m3+self.m4)/4\n",
    "        return average\n",
    "    \n",
    "    @classmethod\n",
    "    def getschool(cls):# we dont want student marks we want school name.we can use cls keyword\n",
    "        return cls.school\n",
    "    @staticmethod\n",
    "    def info():\n",
    "        return 'gurukula is my school'\n",
    "        \n",
    "\n",
    "        \n",
    "stud1 = student(50,40,30,59)\n",
    "stud2 = student(60,70,38,90)\n",
    "print(stud1.avg())\n",
    "print(stud2.avg())\n",
    "print(student.getschool())\n",
    "student.info()"
   ]
  },
  {
   "cell_type": "markdown",
   "id": "e2a684b0",
   "metadata": {},
   "source": [
    "# INHERITANCE"
   ]
  },
  {
   "cell_type": "code",
   "execution_count": 14,
   "id": "49809463",
   "metadata": {},
   "outputs": [
    {
     "name": "stdout",
     "output_type": "stream",
     "text": [
      "parents property\n",
      "property\n",
      "childen property\n",
      "children property\n",
      "None None None None\n"
     ]
    }
   ],
   "source": [
    "class A:\n",
    "    def func1(self):\n",
    "        print('parents property')\n",
    "        \n",
    "    def func2(self):\n",
    "        print('property')\n",
    "        \n",
    "class B(A):\n",
    "    def func3(self):\n",
    "        print('childen property')\n",
    "        \n",
    "    def func4(self):\n",
    "        print('children property')\n",
    "        \n",
    "        \n",
    "a1 = A()\n",
    "b1 = B()\n",
    "print(b1.func1(),b1.func2(),b1.func3(),b1.func4())\n"
   ]
  },
  {
   "cell_type": "code",
   "execution_count": 4,
   "id": "07a9c3d2",
   "metadata": {},
   "outputs": [
    {
     "name": "stdout",
     "output_type": "stream",
     "text": [
      "19700.0\n",
      "physics,maths,chemistry\n",
      "II_inter : schorship is  deducted\n"
     ]
    }
   ],
   "source": [
    "class subject:\n",
    "    def __init__(self,physics_fee,maths_fee,computer_Science_fee,chemistry_fee,subject,inter_year):\n",
    "        self.physics_fee = physics_fee\n",
    "        self.maths_fee = maths_fee\n",
    "        self.computer_Science_fee=computer_Science_fee\n",
    "        self.chemistry_fee = chemistry_fee\n",
    "        self.subject = subject\n",
    "        self.inter_year = inter_year\n",
    "        \n",
    "    def sub_names(self):\n",
    "        if self.subject == 'PMCs':\n",
    "            return 'physics,maths,computer_Science'\n",
    "        elif self.subject == 'PCM':\n",
    "            return 'physics,maths,chemistry'\n",
    "        else:\n",
    "            return 'choose proper subject'\n",
    "        \n",
    "        \n",
    "    def scholor_info(self):\n",
    "        if self.inter_year == 'I_inter':\n",
    "            return 'I_inter : schorship is not deducted'\n",
    "        \n",
    "        elif self.inter_year == 'II_inter':\n",
    "            return 'II_inter : schorship is  deducted'\n",
    "        else:\n",
    "            return 'choose proper year'\n",
    "        \n",
    "\n",
    "class course(subject):\n",
    "    \n",
    "    def course_fee(self):\n",
    "        if self.inter_year == 'I_inter':\n",
    "            if self.subject == 'PMCs':\n",
    "                pmcs_fee = (self.physics_fee+self.maths_fee+self.computer_Science_fee)\n",
    "                return pmcs_fee\n",
    "            \n",
    "            elif self.subject == 'PCM':\n",
    "                pcm_fees = (self.physics_fee+self.maths_fee+self.chemistry_fee)\n",
    "                return pcm_fees\n",
    "            \n",
    "            else:\n",
    "                return 'choose course properly'\n",
    "                \n",
    "        elif self.inter_year == 'II_inter':\n",
    "            if self.subject == 'PMCs':\n",
    "                pmcs_fee = (self.physics_fee+self.maths_fee+self.computer_Science_fee)\n",
    "                scholorship_reduction = pmcs_fee-(pmcs_fee/100)*1.5\n",
    "                return scholorship_reduction\n",
    "            \n",
    "            elif  self.subject == 'PCM':\n",
    "                pcm_fees = (self.physics_fee+self.maths_fee+self.chemistry_fee)\n",
    "                scholorship_reduction = pcm_fees-(pcm_fees/100)*1.5\n",
    "                return scholorship_reduction\n",
    "            \n",
    "            else:\n",
    "                return 'choose course properly'\n",
    "            \n",
    "\n",
    "std1 = course(9000,9000,8000,2000,'PCM','II_inter')\n",
    "print(std1.course_fee())\n",
    "print(std1.sub_names())\n",
    "print(std1.scholor_info())"
   ]
  },
  {
   "cell_type": "markdown",
   "id": "f10698f3",
   "metadata": {},
   "source": [
    "# init constructor and super()"
   ]
  },
  {
   "cell_type": "code",
   "execution_count": 32,
   "id": "9fbc99d7",
   "metadata": {},
   "outputs": [
    {
     "name": "stdout",
     "output_type": "stream",
     "text": [
      "emloyee class\n"
     ]
    }
   ],
   "source": [
    "class juntran:\n",
    "    def __init__(self,name,age):\n",
    "        self.name = name\n",
    "        self.age = age\n",
    "        \n",
    "class employee(juntran):\n",
    "    def __init__(self,name,age):\n",
    "        super().__init__(name,age)\n",
    "        print('emloyee class')\n",
    "  \n",
    "   \n",
    "        \n",
    "emp1 = employee('priya',22)\n",
    "        "
   ]
  },
  {
   "cell_type": "markdown",
   "id": "79b9d7a9",
   "metadata": {},
   "source": [
    "# method resolution order"
   ]
  },
  {
   "cell_type": "code",
   "execution_count": 4,
   "id": "11563330",
   "metadata": {},
   "outputs": [
    {
     "name": "stdout",
     "output_type": "stream",
     "text": [
      "B class\n",
      "D class\n"
     ]
    }
   ],
   "source": [
    "class A:\n",
    "    def __init__(self):\n",
    "        print('A class')\n",
    "        \n",
    "class B():\n",
    "    def __init__(self):\n",
    "        print('B class')\n",
    "        \n",
    "class C():\n",
    "    def __init__(self):\n",
    "        print('c class')\n",
    "        \n",
    "class D(B,C):\n",
    "    def __init__(self):\n",
    "        super().__init__()\n",
    "        print('D class')\n",
    "        \n",
    "a1 = D()\n",
    "        \n",
    "  \n",
    "   \n",
    "    \n",
    "        "
   ]
  },
  {
   "cell_type": "markdown",
   "id": "9457d613",
   "metadata": {},
   "source": [
    "# Polymorphism and duck typing"
   ]
  },
  {
   "cell_type": "code",
   "execution_count": 37,
   "id": "a7a8f303",
   "metadata": {},
   "outputs": [
    {
     "name": "stdout",
     "output_type": "stream",
     "text": [
      "A class\n",
      "execute method\n"
     ]
    }
   ],
   "source": [
    "class A:\n",
    "    def execute(self):\n",
    "        print('A class')\n",
    "        print('execute method')\n",
    "    \n",
    "class B:\n",
    "    def code(self,abc):\n",
    "        abc.execute()\n",
    "        \n",
    "        \n",
    "ide = A()\n",
    "a1 = B()\n",
    "a1.code(ide)"
   ]
  },
  {
   "cell_type": "code",
   "execution_count": 42,
   "id": "715b69b8",
   "metadata": {},
   "outputs": [],
   "source": [
    "class addition:\n",
    "    def __init__(self,n1,n2):\n",
    "        self.n1 = n1\n",
    "        self.n2 = n2\n",
    "        \n",
    "    def add(self):\n",
    "        result = self.n1+self.n2\n",
    "        return result\n",
    "        \n",
    "class display:\n",
    "    def show(self,xyz):\n",
    "        xyz.add()\n",
    "        \n",
    "xyz = addition(5,9)\n",
    "a1 = display()\n",
    "a1.show(xyz)\n"
   ]
  },
  {
   "cell_type": "code",
   "execution_count": 48,
   "id": "fde2e6ca",
   "metadata": {},
   "outputs": [
    {
     "name": "stdout",
     "output_type": "stream",
     "text": [
      "fly with wings\n",
      "fly with fuel\n"
     ]
    }
   ],
   "source": [
    "class Bird:\n",
    "    def fly(self):\n",
    "        print(\"fly with wings\")\n",
    "        \n",
    "class Airplane:\n",
    "    def fly(self):\n",
    "        print(\"fly with fuel\")\n",
    "\n",
    "class Fish:\n",
    "    def swim(self):\n",
    "        print(\"fish swim in sea\")\n",
    "  \n",
    "    for obj in Bird(),Airplane():\n",
    "        obj.fly()"
   ]
  },
  {
   "cell_type": "code",
   "execution_count": 66,
   "id": "8175d8db",
   "metadata": {},
   "outputs": [
    {
     "name": "stdout",
     "output_type": "stream",
     "text": [
      "3500\n",
      "11000\n"
     ]
    }
   ],
   "source": [
    "class commerce:\n",
    "    def __init__(self,I_inter,II_inter):\n",
    "        self.I_inter = I_inter\n",
    "        self.II_inter = II_inter\n",
    "        \n",
    "    def add_stud(self):\n",
    "        total = self.I_inter + self.II_inter\n",
    "        print(total)\n",
    "        \n",
    "class science:\n",
    "    def __init__(self,I_inter,II_inter):\n",
    "        self.I_inter = I_inter\n",
    "        self.II_inter = II_inter\n",
    "        \n",
    "    def add_stud(self):\n",
    "        total = self.I_inter + self.II_inter\n",
    "        print(total)\n",
    "    \n",
    "for obj in commerce(2000,1500),science(5000,6000):\n",
    "    obj.add_stud()\n",
    " "
   ]
  },
  {
   "cell_type": "code",
   "execution_count": null,
   "id": "e714dab4",
   "metadata": {},
   "outputs": [],
   "source": []
  }
 ],
 "metadata": {
  "kernelspec": {
   "display_name": "Python 3 (ipykernel)",
   "language": "python",
   "name": "python3"
  },
  "language_info": {
   "codemirror_mode": {
    "name": "ipython",
    "version": 3
   },
   "file_extension": ".py",
   "mimetype": "text/x-python",
   "name": "python",
   "nbconvert_exporter": "python",
   "pygments_lexer": "ipython3",
   "version": "3.9.12"
  }
 },
 "nbformat": 4,
 "nbformat_minor": 5
}
